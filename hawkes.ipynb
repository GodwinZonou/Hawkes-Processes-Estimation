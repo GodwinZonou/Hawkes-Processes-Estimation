{
 "cells": [
  {
   "cell_type": "code",
   "execution_count": 1,
   "metadata": {},
   "outputs": [
    {
     "name": "stderr",
     "output_type": "stream",
     "text": [
      "c:\\Users\\zozow\\AppData\\Local\\Programs\\Python\\Python310\\lib\\site-packages\\scipy\\__init__.py:169: UserWarning: A NumPy version >=1.18.5 and <1.26.0 is required for this version of SciPy (detected version 1.26.4\n",
      "  warnings.warn(f\"A NumPy version >={np_minversion} and <{np_maxversion}\"\n"
     ]
    },
    {
     "name": "stdout",
     "output_type": "stream",
     "text": [
      "WARNING:tensorflow:From c:\\Users\\zozow\\AppData\\Local\\Programs\\Python\\Python310\\lib\\site-packages\\keras\\src\\losses.py:2976: The name tf.losses.sparse_softmax_cross_entropy is deprecated. Please use tf.compat.v1.losses.sparse_softmax_cross_entropy instead.\n",
      "\n"
     ]
    }
   ],
   "source": [
    "import numpy as np\n",
    "import Hawkes as hk\n",
    "import matplotlib.pyplot as plt\n",
    "import sklearn as sk\n",
    "import tensorflow as tf\n",
    "from tensorflow.keras.models import Sequential\n",
    "from tensorflow.keras.layers import Dense\n",
    "from sklearn.model_selection import train_test_split"
   ]
  },
  {
   "cell_type": "code",
   "execution_count": 13,
   "metadata": {},
   "outputs": [
    {
     "name": "stdout",
     "output_type": "stream",
     "text": [
      "parameter: {'mu': 0.0, 'alpha': 0.5, 'beta': 1.0}\n",
      "branching ratio: 0.5\n",
      "log-likelihood: 0.0\n",
      "AIC: 6.0\n"
     ]
    }
   ],
   "source": [
    "model = hk.estimator()\n",
    "model.set_kernel('exp')\n",
    "model.set_baseline('const')\n",
    "para = {'mu':0.05, 'alpha':1.0, 'beta':4.0}\n",
    "model.set_parameter(para)\n",
    "itv = [0,200] # the observation interval\n",
    "T = np.random.exponential(scale = 1/0.05 , size=50)\n",
    "T = [t for t in itv if t <= itv[1]]\n",
    "model.fit(T,itv) # T is the event times (numpy.ndarray)\n",
    "print(\"parameter:\",model.parameter) # the estimated parameter values\n",
    "print(\"branching ratio:\",model.br) # the branching ratio\n",
    "print(\"log-likelihood:\",model.L) # the log-likelihood of the estimated parameter values\n",
    "print(\"AIC:\",model.AIC) # the AIC of the estimated parameter values"
   ]
  },
  {
   "cell_type": "code",
   "execution_count": null,
   "metadata": {},
   "outputs": [],
   "source": [
    "model = hk.simulator()\n",
    "model.set_kernel('exp')\n",
    "model.set_baseline('const')\n",
    "para = {'mu':0.05, 'alpha':1.0, 'beta':4.0}\n",
    "model.set_parameter(para)\n",
    "itv = [0,200] # the observation interval"
   ]
  },
  {
   "cell_type": "code",
   "execution_count": null,
   "metadata": {},
   "outputs": [],
   "source": [
    "model = Sequential()\n",
    "model.add(Dense(150, activation='relu', kernel_initializer = tf.initializers.RandomUniform(minval=0, maxval=0.5), input_shape=(1,)))\n",
    "model.add(Dense(1, activation=lambda x: tf.exp(x)))\n",
    "model.compile(optimizer='adam', loss='mse')\n",
    "\n",
    "para = {'mu':0.05, 'alpha':1.0, 'beta':4.0}"
   ]
  },
  {
   "cell_type": "code",
   "execution_count": null,
   "metadata": {},
   "outputs": [],
   "source": [
    "def phi(x):\n",
    "    result = para['alpha']*np.exp(- para['beta']*x)\n",
    "    return result"
   ]
  },
  {
   "cell_type": "code",
   "execution_count": null,
   "metadata": {},
   "outputs": [],
   "source": [
    "X =  np.array([[x] for x in np.arange(0, 5, 0.01)]).astype(np.float32)\n",
    "y = phi(X)\n",
    "X_train, X_test, y_train, y_test = train_test_split(X,y, test_size=0.2)\n",
    "\n",
    "model.fit(X_train, y_train, epochs=200, batch_size=50)"
   ]
  },
  {
   "cell_type": "code",
   "execution_count": null,
   "metadata": {},
   "outputs": [],
   "source": [
    "y_true = phi(X_test)  # Les vraies valeurs\n",
    "y_pred = model.predict(X_test)  # Les prédictions de votre modèle\n",
    "# Tracer les résultats\n",
    "plt.figure(figsize=(10, 6))\n",
    "plt.scatter(X_test, y_pred, color='blue', label='Prédictions')\n",
    "plt.scatter(X_test, y_true, color='red', label='Kernel théorique')\n",
    "plt.title('Prédiction du modèle')\n",
    "plt.xlabel('Valeurs de réels')\n",
    "plt.ylabel('Prédictions du modèle')\n",
    "plt.legend()\n",
    "plt.grid(True)\n",
    "plt.show()"
   ]
  },
  {
   "cell_type": "code",
   "execution_count": null,
   "metadata": {},
   "outputs": [],
   "source": [
    "erreur = abs(y_true - y_pred)\n",
    "plt.scatter(X_test, erreur, color='blue', label='Erreurs')\n",
    "plt.ylim(0,0.2)"
   ]
  }
 ],
 "metadata": {
  "kernelspec": {
   "display_name": "Python 3",
   "language": "python",
   "name": "python3"
  },
  "language_info": {
   "codemirror_mode": {
    "name": "ipython",
    "version": 3
   },
   "file_extension": ".py",
   "mimetype": "text/x-python",
   "name": "python",
   "nbconvert_exporter": "python",
   "pygments_lexer": "ipython3",
   "version": "3.10.7"
  }
 },
 "nbformat": 4,
 "nbformat_minor": 2
}
