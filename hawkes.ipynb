{
 "cells": [
  {
   "cell_type": "code",
   "execution_count": 1,
   "metadata": {},
   "outputs": [],
   "source": [
    "import numpy as np\n",
    "import Hawkes as hk\n",
    "import matplotlib.pyplot as plt\n",
    "import sklearn as sk"
   ]
  },
  {
   "cell_type": "code",
   "execution_count": 13,
   "metadata": {},
   "outputs": [
    {
     "name": "stdout",
     "output_type": "stream",
     "text": [
      "parameter: {'mu': 0.0, 'alpha': 0.5, 'beta': 1.0}\n",
      "branching ratio: 0.5\n",
      "log-likelihood: 0.0\n",
      "AIC: 6.0\n"
     ]
    }
   ],
   "source": [
    "model = hk.estimator()\n",
    "model.set_kernel('exp')\n",
    "model.set_baseline('const')\n",
    "para = {'mu':0.05, 'alpha':1.0, 'beta':4.0}\n",
    "model.set_parameter(para)\n",
    "itv = [0,200] # the observation interval\n",
    "T = np.random.exponential(scale = 1/0.05 , size=50)\n",
    "T = [t for t in itv if t <= itv[1]]\n",
    "model.fit(T,itv) # T is the event times (numpy.ndarray)\n",
    "print(\"parameter:\",model.parameter) # the estimated parameter values\n",
    "print(\"branching ratio:\",model.br) # the branching ratio\n",
    "print(\"log-likelihood:\",model.L) # the log-likelihood of the estimated parameter values\n",
    "print(\"AIC:\",model.AIC) # the AIC of the estimated parameter values"
   ]
  },
  {
   "cell_type": "code",
   "execution_count": null,
   "metadata": {},
   "outputs": [],
   "source": [
    "model = hk.simulator()\n",
    "model.set_kernel('exp')\n",
    "model.set_baseline('const')\n",
    "para = {'mu':0.05, 'alpha':1.0, 'beta':4.0}\n",
    "model.set_parameter(para)\n",
    "itv = [0,200] # the observation interval"
   ]
  },
  {
   "cell_type": "code",
   "execution_count": null,
   "metadata": {},
   "outputs": [],
   "source": []
  }
 ],
 "metadata": {
  "kernelspec": {
   "display_name": "Python 3",
   "language": "python",
   "name": "python3"
  },
  "language_info": {
   "codemirror_mode": {
    "name": "ipython",
    "version": 3
   },
   "file_extension": ".py",
   "mimetype": "text/x-python",
   "name": "python",
   "nbconvert_exporter": "python",
   "pygments_lexer": "ipython3",
   "version": "3.10.7"
  }
 },
 "nbformat": 4,
 "nbformat_minor": 2
}
